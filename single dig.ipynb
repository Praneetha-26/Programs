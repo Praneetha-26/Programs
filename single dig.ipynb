{
 "cells": [
  {
   "cell_type": "code",
   "execution_count": null,
   "id": "930c329f-19ab-4c8f-a163-8e5f48d34eca",
   "metadata": {},
   "outputs": [],
   "source": [
    "def single_digit(a):\n",
    "    while a>=10:\n",
    "        sum=0\n",
    "        while a>0:\n",
    "            sum+=a%10\n",
    "            a//=10\n",
    "        a=sum\n",
    "    return a\n",
    "a=int(input(\"Enter number:\"))\n",
    "value=single_digit(a)\n",
    "print(value)"
   ]
  },
  {
   "cell_type": "code",
   "execution_count": null,
   "id": "eec627ab-329d-4c2d-897d-bf1a1d0e465f",
   "metadata": {},
   "outputs": [],
   "source": []
  }
 ],
 "metadata": {
  "kernelspec": {
   "display_name": "Python [conda env:base] *",
   "language": "python",
   "name": "conda-base-py"
  },
  "language_info": {
   "codemirror_mode": {
    "name": "ipython",
    "version": 3
   },
   "file_extension": ".py",
   "mimetype": "text/x-python",
   "name": "python",
   "nbconvert_exporter": "python",
   "pygments_lexer": "ipython3",
   "version": "3.12.7"
  }
 },
 "nbformat": 4,
 "nbformat_minor": 5
}
