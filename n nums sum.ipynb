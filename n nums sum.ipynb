{
 "cells": [
  {
   "cell_type": "code",
   "execution_count": 13,
   "id": "4b5885b8-be12-4247-8fc7-05c6e5b6163e",
   "metadata": {},
   "outputs": [
    {
     "name": "stdin",
     "output_type": "stream",
     "text": [
      "enter the number: 5\n"
     ]
    },
    {
     "name": "stdout",
     "output_type": "stream",
     "text": [
      "sum of n numbers: 15\n"
     ]
    }
   ],
   "source": [
    "#Sum of n numbers using for loop\n",
    "n=int(input(\"enter the number:\"))\n",
    "sum=0\n",
    "for i in range(n+1):\n",
    "    sum=sum+i\n",
    "print(\"sum of n numbers:\",sum)"
   ]
  },
  {
   "cell_type": "code",
   "execution_count": 17,
   "id": "72398538-c434-4a14-a930-802bd50b5414",
   "metadata": {},
   "outputs": [
    {
     "name": "stdin",
     "output_type": "stream",
     "text": [
      "enter the value: 5\n"
     ]
    },
    {
     "name": "stdout",
     "output_type": "stream",
     "text": [
      "sum of n numbers: 1\n",
      "sum of n numbers: 3\n",
      "sum of n numbers: 6\n",
      "sum of n numbers: 10\n",
      "sum of n numbers: 15\n"
     ]
    }
   ],
   "source": [
    "#using while \n",
    "n=int(input(\"enter the value:\"))\n",
    "i=1\n",
    "sum=0\n",
    "while i<=n:\n",
    "    sum=sum+i\n",
    "    i=i+1\n",
    "    print(\"sum of n numbers:\",sum)"
   ]
  },
  {
   "cell_type": "code",
   "execution_count": null,
   "id": "660b9e45-3e37-4569-b563-8436b031dddd",
   "metadata": {},
   "outputs": [],
   "source": []
  }
 ],
 "metadata": {
  "kernelspec": {
   "display_name": "Python [conda env:base] *",
   "language": "python",
   "name": "conda-base-py"
  },
  "language_info": {
   "codemirror_mode": {
    "name": "ipython",
    "version": 3
   },
   "file_extension": ".py",
   "mimetype": "text/x-python",
   "name": "python",
   "nbconvert_exporter": "python",
   "pygments_lexer": "ipython3",
   "version": "3.12.7"
  }
 },
 "nbformat": 4,
 "nbformat_minor": 5
}
