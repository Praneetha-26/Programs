{
 "cells": [
  {
   "cell_type": "code",
   "execution_count": 16,
   "id": "27237c6f-c27a-4e23-ba35-eaecd6b709d3",
   "metadata": {
    "scrolled": true
   },
   "outputs": [
    {
     "name": "stdout",
     "output_type": "stream",
     "text": [
      "54321\n",
      "1234554321\n",
      "1234554321\n",
      "It is palindrome\n"
     ]
    }
   ],
   "source": [
    "a=12345\n",
    "b=str(a)[::-1]\n",
    "print(b)\n",
    "c=str(a)+str(b)\n",
    "print(c)\n",
    "d=str(c)[::-1]\n",
    "print(d)\n",
    "if c==d:\n",
    "    print(\"It is palindrome\")\n",
    "else:\n",
    "    print(\"It is not a palindrome\")\n",
    "\n",
    "      \n",
    "      "
   ]
  },
  {
   "cell_type": "code",
   "execution_count": null,
   "id": "ed58f3f2-9db8-4442-9258-44d8a82c7770",
   "metadata": {},
   "outputs": [],
   "source": [
    "a=input(\"Enter "
   ]
  },
  {
   "cell_type": "code",
   "execution_count": null,
   "id": "a5898431-9530-42eb-b952-d173a47d82f5",
   "metadata": {},
   "outputs": [],
   "source": []
  }
 ],
 "metadata": {
  "kernelspec": {
   "display_name": "Python [conda env:base] *",
   "language": "python",
   "name": "conda-base-py"
  },
  "language_info": {
   "codemirror_mode": {
    "name": "ipython",
    "version": 3
   },
   "file_extension": ".py",
   "mimetype": "text/x-python",
   "name": "python",
   "nbconvert_exporter": "python",
   "pygments_lexer": "ipython3",
   "version": "3.12.7"
  }
 },
 "nbformat": 4,
 "nbformat_minor": 5
}
