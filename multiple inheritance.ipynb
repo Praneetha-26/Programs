{
 "cells": [
  {
   "cell_type": "code",
   "execution_count": 3,
   "id": "b341e584-ed49-4a8e-93a5-248f3376a786",
   "metadata": {},
   "outputs": [
    {
     "name": "stdout",
     "output_type": "stream",
     "text": [
      "money\n",
      "deposit\n",
      "work done\n"
     ]
    }
   ],
   "source": [
    "#Multiple Inheritance\n",
    "class sbi():\n",
    "    def withdrawl(self):\n",
    "        print(\"money\")\n",
    "class creditcard():\n",
    "    def deposit(self):\n",
    "        print(\"deposit\")\n",
    "class customer(sbi,creditcard):\n",
    "    def register(self):\n",
    "        print(\"work done\")\n",
    "c1 = customer()\n",
    "c1.withdrawl()\n",
    "c1.deposit()\n",
    "c1.register()"
   ]
  },
  {
   "cell_type": "code",
   "execution_count": null,
   "id": "d132c4f2-2fe5-4c8d-bd75-50faf3e83da8",
   "metadata": {},
   "outputs": [],
   "source": []
  }
 ],
 "metadata": {
  "kernelspec": {
   "display_name": "Python [conda env:base] *",
   "language": "python",
   "name": "conda-base-py"
  },
  "language_info": {
   "codemirror_mode": {
    "name": "ipython",
    "version": 3
   },
   "file_extension": ".py",
   "mimetype": "text/x-python",
   "name": "python",
   "nbconvert_exporter": "python",
   "pygments_lexer": "ipython3",
   "version": "3.12.7"
  }
 },
 "nbformat": 4,
 "nbformat_minor": 5
}
