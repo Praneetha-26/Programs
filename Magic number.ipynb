{
 "cells": [
  {
   "cell_type": "code",
   "execution_count": 4,
   "id": "03a58659-c788-4087-b355-ef9399cefa10",
   "metadata": {},
   "outputs": [
    {
     "name": "stdout",
     "output_type": "stream",
     "text": [
      "Magic Number\n"
     ]
    }
   ],
   "source": [
    "def magic_num(n):\n",
    "    sum=n\n",
    "    while sum>9:\n",
    "        temp=sum\n",
    "        sum=0\n",
    "        while temp>0:\n",
    "            sum=sum+temp%10\n",
    "            temp//=10\n",
    "    if sum==1:\n",
    "        print(\"Magic Number\")\n",
    "    else:\n",
    "        print(\"not a magic number\")\n",
    "magic_num(1729)"
   ]
  },
  {
   "cell_type": "code",
   "execution_count": null,
   "id": "bd72aafe-706c-40c8-98a4-3f9914c8ccad",
   "metadata": {},
   "outputs": [],
   "source": []
  }
 ],
 "metadata": {
  "kernelspec": {
   "display_name": "Python [conda env:base] *",
   "language": "python",
   "name": "conda-base-py"
  },
  "language_info": {
   "codemirror_mode": {
    "name": "ipython",
    "version": 3
   },
   "file_extension": ".py",
   "mimetype": "text/x-python",
   "name": "python",
   "nbconvert_exporter": "python",
   "pygments_lexer": "ipython3",
   "version": "3.12.7"
  }
 },
 "nbformat": 4,
 "nbformat_minor": 5
}
