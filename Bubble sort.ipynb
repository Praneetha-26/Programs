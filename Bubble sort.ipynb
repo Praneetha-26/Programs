{
 "cells": [
  {
   "cell_type": "code",
   "execution_count": 3,
   "id": "d980c915-3f95-4e46-ab6d-645a459cf2b8",
   "metadata": {},
   "outputs": [
    {
     "name": "stdout",
     "output_type": "stream",
     "text": [
      "Sorted list: [0, 1, 2, 3, 4, 5, 6, 7, 8, 9]\n"
     ]
    }
   ],
   "source": [
    "#Bubble Sort(Ascending Order)\n",
    "def bubble_sort(a):\n",
    "    for i in range(len(a)):\n",
    "        for j in range(0,len(a)-i-1):\n",
    "            if a[j]>a[j+1]:\n",
    "                temp=a[j]\n",
    "                a[j]=a[j+1]\n",
    "                a[j+1]=temp\n",
    "    return a\n",
    "a=[9,5,0,3,6,2,4,1,8,7]\n",
    "sort=bubble_sort(a)\n",
    "print(\"Sorted list:\",sort)"
   ]
  },
  {
   "cell_type": "code",
   "execution_count": null,
   "id": "00bd5977-83a0-44db-8d73-b5e362217155",
   "metadata": {},
   "outputs": [],
   "source": []
  }
 ],
 "metadata": {
  "kernelspec": {
   "display_name": "Python [conda env:base] *",
   "language": "python",
   "name": "conda-base-py"
  },
  "language_info": {
   "codemirror_mode": {
    "name": "ipython",
    "version": 3
   },
   "file_extension": ".py",
   "mimetype": "text/x-python",
   "name": "python",
   "nbconvert_exporter": "python",
   "pygments_lexer": "ipython3",
   "version": "3.12.7"
  }
 },
 "nbformat": 4,
 "nbformat_minor": 5
}
