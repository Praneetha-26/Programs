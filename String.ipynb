{
 "cells": [
  {
   "cell_type": "code",
   "execution_count": 2,
   "id": "bd668836-0b5d-44ff-abde-07ab01eca8f3",
   "metadata": {},
   "outputs": [
    {
     "name": "stdin",
     "output_type": "stream",
     "text": [
      "Enter the original string: Hello Guys! Welcome to RGMCET.\n",
      "Enter the word to search: Guys!\n",
      "Enter the word to replace it with: Friends!\n"
     ]
    },
    {
     "name": "stdout",
     "output_type": "stream",
     "text": [
      "Updated string: Hello Friends! Welcome to RGMCET.\n"
     ]
    }
   ],
   "source": [
    "#Program to search and replace a string\n",
    "Text=input(\"Enter the original string:\")\n",
    "search_word=input(\"Enter the word to search:\")\n",
    "replace_word=input(\"Enter the word to replace it with:\")\n",
    "new_text=Text.replace(search_word,replace_word)\n",
    "print(\"Updated string:\",new_text)"
   ]
  },
  {
   "cell_type": "code",
   "execution_count": null,
   "id": "8472f1c1-0572-477d-8865-566c8c53d12e",
   "metadata": {},
   "outputs": [],
   "source": []
  }
 ],
 "metadata": {
  "kernelspec": {
   "display_name": "Python [conda env:base] *",
   "language": "python",
   "name": "conda-base-py"
  },
  "language_info": {
   "codemirror_mode": {
    "name": "ipython",
    "version": 3
   },
   "file_extension": ".py",
   "mimetype": "text/x-python",
   "name": "python",
   "nbconvert_exporter": "python",
   "pygments_lexer": "ipython3",
   "version": "3.12.7"
  }
 },
 "nbformat": 4,
 "nbformat_minor": 5
}
