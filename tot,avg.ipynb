{
 "cells": [
  {
   "cell_type": "code",
   "execution_count": 6,
   "id": "ae8ab561-2eb2-4af1-a4a4-56cd6d113b1a",
   "metadata": {},
   "outputs": [
    {
     "name": "stdout",
     "output_type": "stream",
     "text": [
      "total marks: 279\n",
      "avg marks: 93.0\n"
     ]
    }
   ],
   "source": [
    "class Student:\n",
    "    def marks(self,a,b,c):\n",
    "        self.s1=a\n",
    "        self.s2=b\n",
    "        self.s3=c \n",
    "    def total(self):\n",
    "        self.total=self.s1+self.s2+self.s3\n",
    "    def avg(self):\n",
    "        self.average=self.total/3\n",
    "    def display(self):\n",
    "        print(\"total marks:\",self.total)\n",
    "        print(\"avg marks:\",self.average)\n",
    "s1=Student()\n",
    "s1.marks(92,93,94)\n",
    "s1.total()\n",
    "s1.avg()\n",
    "s1.display()\n"
   ]
  },
  {
   "cell_type": "code",
   "execution_count": null,
   "id": "0f3d5ad3-0d76-4a58-8bec-3c034dd14050",
   "metadata": {},
   "outputs": [],
   "source": []
  },
  {
   "cell_type": "code",
   "execution_count": null,
   "id": "95b2ebb8-8e5c-42ee-b611-0742f9f70911",
   "metadata": {},
   "outputs": [],
   "source": []
  }
 ],
 "metadata": {
  "kernelspec": {
   "display_name": "Python [conda env:base] *",
   "language": "python",
   "name": "conda-base-py"
  },
  "language_info": {
   "codemirror_mode": {
    "name": "ipython",
    "version": 3
   },
   "file_extension": ".py",
   "mimetype": "text/x-python",
   "name": "python",
   "nbconvert_exporter": "python",
   "pygments_lexer": "ipython3",
   "version": "3.12.7"
  }
 },
 "nbformat": 4,
 "nbformat_minor": 5
}
