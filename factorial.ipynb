{
 "cells": [
  {
   "cell_type": "code",
   "execution_count": 6,
   "id": "5f59675d-0ffe-413a-9eeb-9da8134613ee",
   "metadata": {},
   "outputs": [
    {
     "name": "stdin",
     "output_type": "stream",
     "text": [
      "Enter the number: 7\n"
     ]
    },
    {
     "name": "stdout",
     "output_type": "stream",
     "text": [
      "Factorial of a given number: 1\n",
      "Factorial of a given number: 2\n",
      "Factorial of a given number: 6\n",
      "Factorial of a given number: 24\n",
      "Factorial of a given number: 120\n",
      "Factorial of a given number: 720\n",
      "Factorial of a given number: 5040\n"
     ]
    }
   ],
   "source": [
    "n=int(input(\"Enter the number:\"))\n",
    "factorial=1\n",
    "for i in range(1,n+1):\n",
    "    factorial=factorial*i\n",
    "    print(\"Factorial of a given number:\",factorial)"
   ]
  },
  {
   "cell_type": "code",
   "execution_count": null,
   "id": "3dffca8f-253b-4099-89a7-9a5fa69e283e",
   "metadata": {},
   "outputs": [],
   "source": []
  }
 ],
 "metadata": {
  "kernelspec": {
   "display_name": "Python [conda env:base] *",
   "language": "python",
   "name": "conda-base-py"
  },
  "language_info": {
   "codemirror_mode": {
    "name": "ipython",
    "version": 3
   },
   "file_extension": ".py",
   "mimetype": "text/x-python",
   "name": "python",
   "nbconvert_exporter": "python",
   "pygments_lexer": "ipython3",
   "version": "3.12.7"
  }
 },
 "nbformat": 4,
 "nbformat_minor": 5
}
