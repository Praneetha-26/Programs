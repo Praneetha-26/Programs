{
 "cells": [
  {
   "cell_type": "code",
   "execution_count": 3,
   "id": "f8dcc534-70fb-4a59-96b8-869bf3c4f1ac",
   "metadata": {},
   "outputs": [
    {
     "name": "stdout",
     "output_type": "stream",
     "text": [
      "Happy number\n"
     ]
    }
   ],
   "source": [
    "def is_happy(n):\n",
    "    seen=set()\n",
    "    while n!=1 and n not in seen:\n",
    "        seen.add(n)\n",
    "        sum=0\n",
    "        while n>0:\n",
    "            digit=n%10\n",
    "            sum=sum+digit*digit\n",
    "            n//=10\n",
    "        n=sum\n",
    "    if n==1:\n",
    "        print(\"Happy number\")\n",
    "    else:\n",
    "        print(\"Not a happy number\")\n",
    "is_happy(19)"
   ]
  },
  {
   "cell_type": "code",
   "execution_count": null,
   "id": "344e0543-8b1e-49b2-a32e-5e56be10a025",
   "metadata": {},
   "outputs": [],
   "source": []
  }
 ],
 "metadata": {
  "kernelspec": {
   "display_name": "Python [conda env:base] *",
   "language": "python",
   "name": "conda-base-py"
  },
  "language_info": {
   "codemirror_mode": {
    "name": "ipython",
    "version": 3
   },
   "file_extension": ".py",
   "mimetype": "text/x-python",
   "name": "python",
   "nbconvert_exporter": "python",
   "pygments_lexer": "ipython3",
   "version": "3.12.7"
  }
 },
 "nbformat": 4,
 "nbformat_minor": 5
}
