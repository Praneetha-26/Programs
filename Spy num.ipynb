{
 "cells": [
  {
   "cell_type": "code",
   "execution_count": 4,
   "id": "fc74cae6-7db9-42b1-8448-366d3d76d71d",
   "metadata": {},
   "outputs": [
    {
     "name": "stdout",
     "output_type": "stream",
     "text": [
      "Spy number\n"
     ]
    }
   ],
   "source": [
    "#Spy Number\n",
    "def spy_number(n):\n",
    "    sum=0\n",
    "    product=1\n",
    "    while n>0:\n",
    "        rem=n%10\n",
    "        sum=sum+rem\n",
    "        product=product*rem\n",
    "        n=n//10\n",
    "    if sum==product:\n",
    "        print(\"Spy number\")\n",
    "    else:\n",
    "        print(\"Not a spy number\")\n",
    "spy_number(123)"
   ]
  },
  {
   "cell_type": "code",
   "execution_count": null,
   "id": "fb30e6be-75ce-4328-8a7c-ecc398e68146",
   "metadata": {},
   "outputs": [],
   "source": []
  }
 ],
 "metadata": {
  "kernelspec": {
   "display_name": "Python [conda env:base] *",
   "language": "python",
   "name": "conda-base-py"
  },
  "language_info": {
   "codemirror_mode": {
    "name": "ipython",
    "version": 3
   },
   "file_extension": ".py",
   "mimetype": "text/x-python",
   "name": "python",
   "nbconvert_exporter": "python",
   "pygments_lexer": "ipython3",
   "version": "3.12.7"
  }
 },
 "nbformat": 4,
 "nbformat_minor": 5
}
