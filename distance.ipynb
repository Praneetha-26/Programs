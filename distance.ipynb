{
 "cells": [
  {
   "cell_type": "code",
   "execution_count": 2,
   "id": "ca288884-4744-4ba3-87b6-1ffbe7204ccc",
   "metadata": {},
   "outputs": [
    {
     "name": "stdout",
     "output_type": "stream",
     "text": [
      "Euclidean distance from A to B: 10.44030650891055\n"
     ]
    }
   ],
   "source": [
    "import numpy as np\n",
    "\n",
    "# Student data as vectors\n",
    "A = np.array([80, 85])\n",
    "B = np.array([90, 88])\n",
    "\n",
    "\n",
    "import math\n",
    "distance=math.sqrt((B[0]-A[0])**2+(B[1]-A[1])**2)\n",
    "\n",
    "print(\"Euclidean distance from A to B:\", distance)\n",
    "\n",
    "\n"
   ]
  },
  {
   "cell_type": "code",
   "execution_count": 8,
   "id": "0ef3e579-ed8d-45ac-aaf2-b735278ed532",
   "metadata": {},
   "outputs": [
    {
     "name": "stdout",
     "output_type": "stream",
     "text": [
      "Centroid of the dataset: [85.  86.5]\n"
     ]
    }
   ],
   "source": [
    "data=np.array([A,B])\n",
    "Centroid =np.mean(data,axis=0)\n",
    "print(\"Centroid of the dataset:\",Centroid)"
   ]
  },
  {
   "cell_type": "code",
   "execution_count": 11,
   "id": "a0f2c3b4-0507-43d7-95a0-51c24ebc375f",
   "metadata": {},
   "outputs": [
    {
     "name": "stdout",
     "output_type": "stream",
     "text": [
      "Manhattan distance: 13\n"
     ]
    }
   ],
   "source": [
    "manhattan_distance=abs(A[0]-B[0])+abs(A[1]-B[1])\n",
    "print(\"Manhattan distance:\",manhattan_distance)"
   ]
  },
  {
   "cell_type": "code",
   "execution_count": 3,
   "id": "0473c334-9379-4018-84bd-0283fc25bf87",
   "metadata": {},
   "outputs": [
    {
     "name": "stdout",
     "output_type": "stream",
     "text": [
      "Cosine Similarity: 0.9991377849530736\n",
      "dot: 14680\n",
      "14692.668239635712\n"
     ]
    }
   ],
   "source": [
    "dot_product = A[0]*B[0] + A[1]*B[1]  # 80*90 + 85*88\n",
    "\n",
    "# Magnitudes\n",
    "magnitude_A = math.sqrt(A[0]**2 + A[1]**2)  # sqrt(80² + 85²)\n",
    "magnitude_B = math.sqrt(B[0]**2 + B[1]**2)  # sqrt(90² + 88²)\n",
    "\n",
    "# Cosine similaritycorr\n",
    "cosine_similarity = dot_product / (magnitude_A * magnitude_B)\n",
    "\n",
    "print(\"Cosine Similarity:\", cosine_similarity)\n",
    "print(\"dot:\",dot_product)\n",
    "print(magnitude_A*magnitude_B)\n"
   ]
  },
  {
   "cell_type": "code",
   "execution_count": null,
   "id": "c0df7231-90e2-443b-996e-b2d154cf7cb4",
   "metadata": {},
   "outputs": [],
   "source": []
  },
  {
   "cell_type": "code",
   "execution_count": null,
   "id": "9a310ad3-8c56-427d-a42f-697d79938e63",
   "metadata": {},
   "outputs": [],
   "source": []
  }
 ],
 "metadata": {
  "kernelspec": {
   "display_name": "Python [conda env:base] *",
   "language": "python",
   "name": "conda-base-py"
  },
  "language_info": {
   "codemirror_mode": {
    "name": "ipython",
    "version": 3
   },
   "file_extension": ".py",
   "mimetype": "text/x-python",
   "name": "python",
   "nbconvert_exporter": "python",
   "pygments_lexer": "ipython3",
   "version": "3.12.7"
  }
 },
 "nbformat": 4,
 "nbformat_minor": 5
}
