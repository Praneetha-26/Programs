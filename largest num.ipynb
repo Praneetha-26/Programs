{
 "cells": [
  {
   "cell_type": "code",
   "execution_count": 11,
   "id": "627edee4-76f6-45cb-8b5a-a56606617368",
   "metadata": {},
   "outputs": [
    {
     "name": "stdin",
     "output_type": "stream",
     "text": [
      "enter n value: 5\n",
      "Enter number 1: 45\n",
      "Enter number 2: 89\n",
      "Enter number 3: 23\n",
      "Enter number 4: 199\n",
      "Enter number 5: 69\n"
     ]
    },
    {
     "name": "stdout",
     "output_type": "stream",
     "text": [
      "The largest num is: 199\n"
     ]
    }
   ],
   "source": [
    "#Finding the largest number among n numbers\n",
    "n=int(input(\"enter n value:\"))\n",
    "num=int(input(\"Enter number 1:\"))\n",
    "largest=num\n",
    "for i in range(2,n+1):\n",
    "    num=int(input(f\"Enter number {i}:\"))\n",
    "    if num>largest:\n",
    "        largest=num\n",
    "print(\"The largest num is:\",largest)"
   ]
  },
  {
   "cell_type": "code",
   "execution_count": null,
   "id": "e6257446-0317-4726-9792-5789f11860d7",
   "metadata": {},
   "outputs": [],
   "source": []
  }
 ],
 "metadata": {
  "kernelspec": {
   "display_name": "Python [conda env:base] *",
   "language": "python",
   "name": "conda-base-py"
  },
  "language_info": {
   "codemirror_mode": {
    "name": "ipython",
    "version": 3
   },
   "file_extension": ".py",
   "mimetype": "text/x-python",
   "name": "python",
   "nbconvert_exporter": "python",
   "pygments_lexer": "ipython3",
   "version": "3.12.7"
  }
 },
 "nbformat": 4,
 "nbformat_minor": 5
}
