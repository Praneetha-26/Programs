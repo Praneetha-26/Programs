{
 "cells": [
  {
   "cell_type": "code",
   "execution_count": 1,
   "id": "0cb0503b-0574-40c0-9cdd-b762cebb0a01",
   "metadata": {},
   "outputs": [
    {
     "name": "stdout",
     "output_type": "stream",
     "text": [
      "[1, 2, 3, 4, 5, 6, 7, 8, 9]\n"
     ]
    }
   ],
   "source": [
    "def Insertion_sort(a):\n",
    "    for i in range(1,len(a)):\n",
    "        current=a[i]\n",
    "        j=i-1\n",
    "        while(j>=0 and a[j]>current):\n",
    "            a[j+1]=a[j]\n",
    "            j-=1\n",
    "        a[j+1]=current\n",
    "    return a\n",
    "a=[6,9,8,7,2,3,1,5,4]\n",
    "index=Insertion_sort(a)\n",
    "print(index)"
   ]
  },
  {
   "cell_type": "code",
   "execution_count": null,
   "id": "1433459e-8f39-4b78-8e6a-a2248e06638a",
   "metadata": {},
   "outputs": [],
   "source": []
  }
 ],
 "metadata": {
  "kernelspec": {
   "display_name": "Python [conda env:base] *",
   "language": "python",
   "name": "conda-base-py"
  },
  "language_info": {
   "codemirror_mode": {
    "name": "ipython",
    "version": 3
   },
   "file_extension": ".py",
   "mimetype": "text/x-python",
   "name": "python",
   "nbconvert_exporter": "python",
   "pygments_lexer": "ipython3",
   "version": "3.12.7"
  }
 },
 "nbformat": 4,
 "nbformat_minor": 5
}
